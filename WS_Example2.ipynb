{
 "cells": [
  {
   "cell_type": "code",
   "execution_count": 1,
   "metadata": {},
   "outputs": [],
   "source": [
    "from urllib.request import urlopen\n",
    "from bs4 import BeautifulSoup"
   ]
  },
  {
   "cell_type": "code",
   "execution_count": 25,
   "metadata": {},
   "outputs": [],
   "source": [
    "url = 'https://justo.mx/products/category/frutas-verduras-8/'"
   ]
  },
  {
   "cell_type": "code",
   "execution_count": 26,
   "metadata": {},
   "outputs": [],
   "source": [
    "try:\n",
    "   webpage = urlopen(url)\n",
    "except:\n",
    "   print(\"Error opening the URL\")"
   ]
  },
  {
   "cell_type": "code",
   "execution_count": 27,
   "metadata": {},
   "outputs": [],
   "source": [
    "soup = BeautifulSoup(webpage, 'html.parser')"
   ]
  },
  {
   "cell_type": "code",
   "execution_count": 39,
   "metadata": {},
   "outputs": [
    {
     "name": "stdout",
     "output_type": "stream",
     "text": [
      "Aguacate Haas 1kg\n"
     ]
    }
   ],
   "source": [
    "product_info = soup.find('p', {\"class\": \"product-card__name\"}).text.strip()\n",
    "print(product_info)"
   ]
  },
  {
   "cell_type": "code",
   "execution_count": 41,
   "metadata": {},
   "outputs": [
    {
     "name": "stdout",
     "output_type": "stream",
     "text": [
      "Verduras en General\n"
     ]
    }
   ],
   "source": [
    "product_category = soup.find('p', {\"class\": \"product-card__category\"}).text.strip()\n",
    "print(product_category)"
   ]
  },
  {
   "cell_type": "code",
   "execution_count": 42,
   "metadata": {},
   "outputs": [
    {
     "name": "stdout",
     "output_type": "stream",
     "text": [
      "$44.99\n",
      "    \n",
      "  \n",
      "\n",
      "\n",
      "        \n",
      "        \n",
      "        / Kg\n"
     ]
    }
   ],
   "source": [
    "product_price = soup.find('p', {\"class\": \"product-card__price\"}).text.strip()\n",
    "print(product_price)"
   ]
  },
  {
   "cell_type": "code",
   "execution_count": 40,
   "metadata": {},
   "outputs": [
    {
     "data": {
      "text/plain": [
       "[range(0, 50)]"
      ]
     },
     "execution_count": 40,
     "metadata": {},
     "output_type": "execute_result"
    }
   ],
   "source": [
    "import requests\n",
    "from bs4 import BeautifulSoup as bs\n",
    "\n",
    "codelists = ['frutas-verduras-8', 'carnes-pescados-2', 'despensa-4', 'higiene-personal-belleza-9', 'hogar-limpieza-10',\n",
    "            'vinos-y-licores-15', 'bebidas-1', 'congelados-3', 'refrigerados-6', 'organicos-12', 'farmacia-7',\n",
    "            'mascotas-11']\n",
    "\n",
    "product_info = []\n",
    "product_category = []\n",
    "product_price = []"
   ]
  },
  {
   "cell_type": "code",
   "execution_count": null,
   "metadata": {},
   "outputs": [],
   "source": []
  }
 ],
 "metadata": {
  "kernelspec": {
   "display_name": "Python 3",
   "language": "python",
   "name": "python3"
  },
  "language_info": {
   "codemirror_mode": {
    "name": "ipython",
    "version": 3
   },
   "file_extension": ".py",
   "mimetype": "text/x-python",
   "name": "python",
   "nbconvert_exporter": "python",
   "pygments_lexer": "ipython3",
   "version": "3.7.7"
  }
 },
 "nbformat": 4,
 "nbformat_minor": 4
}
