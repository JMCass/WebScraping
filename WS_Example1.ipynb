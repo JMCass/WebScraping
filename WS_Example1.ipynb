{
 "cells": [
  {
   "cell_type": "markdown",
   "metadata": {},
   "source": [
    "# HTML Fundamentals"
   ]
  },
  {
   "cell_type": "markdown",
   "metadata": {},
   "source": [
    "The <html> tag tells the browser that this is an HTML document.\n",
    "    \n",
    "The <head> element is a container for all the head elements.\n",
    "    \n",
    "The <body> tag defines the document's body.\n",
    "    \n",
    "It contains all the contents of an HTML document, such as text, hyperlinks, images, tables, lists, etc.\n",
    "\n",
    "The <div> tag defines a division or a section in an HTML document.\n",
    "    \n",
    "The <p> tag defines a paragraph.\n",
    "    \n",
    "The <h*> tags are used to define HTML headings.\n",
    "    \n",
    "The <a> tag defines a hyperlink, which is used to link from one page to another."
   ]
  },
  {
   "cell_type": "code",
   "execution_count": null,
   "metadata": {},
   "outputs": [],
   "source": [
    "#pip install beautifulsoup4"
   ]
  },
  {
   "cell_type": "code",
   "execution_count": 1,
   "metadata": {},
   "outputs": [],
   "source": [
    "from urllib.request import urlopen\n",
    "from bs4 import BeautifulSoup"
   ]
  },
  {
   "cell_type": "code",
   "execution_count": 2,
   "metadata": {},
   "outputs": [],
   "source": [
    "url = 'https://www.bbc.com/sport/football/46897172'"
   ]
  },
  {
   "cell_type": "code",
   "execution_count": 3,
   "metadata": {},
   "outputs": [],
   "source": [
    "# We use try-except incase the request was unsuccessful because of an error in the URL\n",
    "try:\n",
    "   webpage = urlopen(url)\n",
    "except:\n",
    "   print(\"Error opening the URL\")"
   ]
  },
  {
   "cell_type": "code",
   "execution_count": 4,
   "metadata": {},
   "outputs": [],
   "source": [
    "soup = BeautifulSoup(webpage, 'html.parser')"
   ]
  },
  {
   "cell_type": "code",
   "execution_count": 5,
   "metadata": {},
   "outputs": [],
   "source": [
    "content = soup.find('div', {\"class\": \"story-body sp-story-body gel-body-copy\"})"
   ]
  },
  {
   "cell_type": "code",
   "execution_count": 6,
   "metadata": {},
   "outputs": [],
   "source": [
    "article = ''\n",
    "\n",
    "for i in content.findAll('p'):\n",
    "    article = article + '' + i.text"
   ]
  },
  {
   "cell_type": "code",
   "execution_count": 7,
   "metadata": {},
   "outputs": [],
   "source": [
    "with open('scraped_text.txt', 'w') as file:\n",
    "    file.write(article)"
   ]
  },
  {
   "cell_type": "code",
   "execution_count": 8,
   "metadata": {},
   "outputs": [
    {
     "name": "stdout",
     "output_type": "stream",
     "text": [
      "Cristiano Ronaldo's header was enough for Juventus to beat AC Milan and claim a record eighth Supercoppa Italiana in a game played in Jeddah, Saudi Arabia.The Portugal forward nodded in Miralem Pjanic's lofted pass in the second half to settle a meeting between Italian football's two most successful clubs.It was Ronaldo's 16th goal of the season for the Serie A leaders.Patrick Cutrone hit the crossbar for Milan, who had Ivorian midfielder Franck Kessie sent off.Gonzalo Higuain, reportedly the subject of interest from Chelsea, was introduced as a substitute by Milan boss Gennaro Gattuso in Italy's version of the Community Shield.But the 31-year-old Argentina forward, who is currently on loan from Juventus, was unable to deliver an equalising goal for the Rossoneri, who were beaten 4-0 by Juve in the Coppa Italia final in May.\n"
     ]
    }
   ],
   "source": [
    "text = open('scraped_text.txt', 'r')\n",
    "print(text.read())"
   ]
  }
 ],
 "metadata": {
  "kernelspec": {
   "display_name": "Python 3",
   "language": "python",
   "name": "python3"
  },
  "language_info": {
   "codemirror_mode": {
    "name": "ipython",
    "version": 3
   },
   "file_extension": ".py",
   "mimetype": "text/x-python",
   "name": "python",
   "nbconvert_exporter": "python",
   "pygments_lexer": "ipython3",
   "version": "3.7.7"
  }
 },
 "nbformat": 4,
 "nbformat_minor": 4
}
